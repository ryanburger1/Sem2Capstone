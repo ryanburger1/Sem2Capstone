{
 "cells": [
  {
   "cell_type": "markdown",
   "metadata": {},
   "source": [
    "## EDA"
   ]
  },
  {
   "cell_type": "code",
   "execution_count": 1,
   "metadata": {},
   "outputs": [],
   "source": [
    "#Importing libraries \n",
    "import pandas as pd \n",
    "import numpy as np \n",
    "import seaborn as sns\n",
    "import matplotlib.pyplot as plt \n",
    "import statsmodels.api as sm\n",
    "import squarify \n",
    "import matplotlib.dates as dates \n",
    "from datetime import datetime\n",
    "import xgboost as xgboost "
   ]
  },
  {
   "cell_type": "code",
   "execution_count": 2,
   "metadata": {},
   "outputs": [
    {
     "data": {
      "text/html": [
       "<div>\n",
       "<style scoped>\n",
       "    .dataframe tbody tr th:only-of-type {\n",
       "        vertical-align: middle;\n",
       "    }\n",
       "\n",
       "    .dataframe tbody tr th {\n",
       "        vertical-align: top;\n",
       "    }\n",
       "\n",
       "    .dataframe thead th {\n",
       "        text-align: right;\n",
       "    }\n",
       "</style>\n",
       "<table border=\"1\" class=\"dataframe\">\n",
       "  <thead>\n",
       "    <tr style=\"text-align: right;\">\n",
       "      <th></th>\n",
       "      <th>time</th>\n",
       "      <th>event_name</th>\n",
       "      <th>product_id</th>\n",
       "      <th>category_id</th>\n",
       "      <th>category_name</th>\n",
       "      <th>brand</th>\n",
       "      <th>price</th>\n",
       "      <th>user_id</th>\n",
       "      <th>session</th>\n",
       "      <th>category_1</th>\n",
       "      <th>category_2</th>\n",
       "      <th>category_3</th>\n",
       "    </tr>\n",
       "  </thead>\n",
       "  <tbody>\n",
       "    <tr>\n",
       "      <th>0</th>\n",
       "      <td>2019-12-16 02:00:59+09</td>\n",
       "      <td>view</td>\n",
       "      <td>5748490</td>\n",
       "      <td>1487580006350586771</td>\n",
       "      <td>appliances.environment.vacuum</td>\n",
       "      <td>Not defined</td>\n",
       "      <td>26.97</td>\n",
       "      <td>527803604</td>\n",
       "      <td>1c8250d5-79e6-4080-aa13-d2e73c596fa2</td>\n",
       "      <td>appliances</td>\n",
       "      <td>environment</td>\n",
       "      <td>vacuum</td>\n",
       "    </tr>\n",
       "    <tr>\n",
       "      <th>1</th>\n",
       "      <td>2019-12-16 02:01:23+09</td>\n",
       "      <td>view</td>\n",
       "      <td>5856191</td>\n",
       "      <td>1487580006350586771</td>\n",
       "      <td>appliances.environment.vacuum</td>\n",
       "      <td>runail</td>\n",
       "      <td>24.44</td>\n",
       "      <td>587394396</td>\n",
       "      <td>2721b750-3936-4196-ba9b-206e823f725d</td>\n",
       "      <td>appliances</td>\n",
       "      <td>environment</td>\n",
       "      <td>vacuum</td>\n",
       "    </tr>\n",
       "    <tr>\n",
       "      <th>2</th>\n",
       "      <td>2019-12-16 02:01:56+09</td>\n",
       "      <td>view</td>\n",
       "      <td>5867188</td>\n",
       "      <td>1487580006350586771</td>\n",
       "      <td>appliances.environment.vacuum</td>\n",
       "      <td>emil</td>\n",
       "      <td>55.56</td>\n",
       "      <td>527803604</td>\n",
       "      <td>1c8250d5-79e6-4080-aa13-d2e73c596fa2</td>\n",
       "      <td>appliances</td>\n",
       "      <td>environment</td>\n",
       "      <td>vacuum</td>\n",
       "    </tr>\n",
       "    <tr>\n",
       "      <th>3</th>\n",
       "      <td>2019-12-16 02:05:17+09</td>\n",
       "      <td>view</td>\n",
       "      <td>5826657</td>\n",
       "      <td>1487580006350586771</td>\n",
       "      <td>appliances.environment.vacuum</td>\n",
       "      <td>Not defined</td>\n",
       "      <td>29.71</td>\n",
       "      <td>527803604</td>\n",
       "      <td>1c8250d5-79e6-4080-aa13-d2e73c596fa2</td>\n",
       "      <td>appliances</td>\n",
       "      <td>environment</td>\n",
       "      <td>vacuum</td>\n",
       "    </tr>\n",
       "    <tr>\n",
       "      <th>4</th>\n",
       "      <td>2019-12-16 02:05:38+09</td>\n",
       "      <td>view</td>\n",
       "      <td>8098</td>\n",
       "      <td>1487580006350586771</td>\n",
       "      <td>appliances.environment.vacuum</td>\n",
       "      <td>Not defined</td>\n",
       "      <td>1.11</td>\n",
       "      <td>587355096</td>\n",
       "      <td>79c56618-fb25-41f2-87c9-bbc55880c884</td>\n",
       "      <td>appliances</td>\n",
       "      <td>environment</td>\n",
       "      <td>vacuum</td>\n",
       "    </tr>\n",
       "  </tbody>\n",
       "</table>\n",
       "</div>"
      ],
      "text/plain": [
       "                     time event_name  product_id          category_id  \\\n",
       "0  2019-12-16 02:00:59+09       view     5748490  1487580006350586771   \n",
       "1  2019-12-16 02:01:23+09       view     5856191  1487580006350586771   \n",
       "2  2019-12-16 02:01:56+09       view     5867188  1487580006350586771   \n",
       "3  2019-12-16 02:05:17+09       view     5826657  1487580006350586771   \n",
       "4  2019-12-16 02:05:38+09       view        8098  1487580006350586771   \n",
       "\n",
       "                   category_name        brand  price    user_id  \\\n",
       "0  appliances.environment.vacuum  Not defined  26.97  527803604   \n",
       "1  appliances.environment.vacuum       runail  24.44  587394396   \n",
       "2  appliances.environment.vacuum         emil  55.56  527803604   \n",
       "3  appliances.environment.vacuum  Not defined  29.71  527803604   \n",
       "4  appliances.environment.vacuum  Not defined   1.11  587355096   \n",
       "\n",
       "                                session  category_1   category_2 category_3  \n",
       "0  1c8250d5-79e6-4080-aa13-d2e73c596fa2  appliances  environment     vacuum  \n",
       "1  2721b750-3936-4196-ba9b-206e823f725d  appliances  environment     vacuum  \n",
       "2  1c8250d5-79e6-4080-aa13-d2e73c596fa2  appliances  environment     vacuum  \n",
       "3  1c8250d5-79e6-4080-aa13-d2e73c596fa2  appliances  environment     vacuum  \n",
       "4  79c56618-fb25-41f2-87c9-bbc55880c884  appliances  environment     vacuum  "
      ]
     },
     "execution_count": 2,
     "metadata": {},
     "output_type": "execute_result"
    }
   ],
   "source": [
    "data = pd.read_csv('commerce_data.csv')\n",
    "data.head()"
   ]
  },
  {
   "cell_type": "code",
   "execution_count": 3,
   "metadata": {},
   "outputs": [
    {
     "data": {
      "text/html": [
       "<div>\n",
       "<style scoped>\n",
       "    .dataframe tbody tr th:only-of-type {\n",
       "        vertical-align: middle;\n",
       "    }\n",
       "\n",
       "    .dataframe tbody tr th {\n",
       "        vertical-align: top;\n",
       "    }\n",
       "\n",
       "    .dataframe thead th {\n",
       "        text-align: right;\n",
       "    }\n",
       "</style>\n",
       "<table border=\"1\" class=\"dataframe\">\n",
       "  <thead>\n",
       "    <tr style=\"text-align: right;\">\n",
       "      <th></th>\n",
       "      <th>time</th>\n",
       "      <th>event_name</th>\n",
       "      <th>product_id</th>\n",
       "      <th>category_id</th>\n",
       "      <th>category_name</th>\n",
       "      <th>brand</th>\n",
       "      <th>price</th>\n",
       "      <th>user_id</th>\n",
       "      <th>session</th>\n",
       "      <th>category_1</th>\n",
       "      <th>category_2</th>\n",
       "      <th>category_3</th>\n",
       "    </tr>\n",
       "  </thead>\n",
       "  <tbody>\n",
       "    <tr>\n",
       "      <th>0</th>\n",
       "      <td>2019-12-16 02:00:59+09</td>\n",
       "      <td>view</td>\n",
       "      <td>5748490</td>\n",
       "      <td>1487580006350586771</td>\n",
       "      <td>appliances.environment.vacuum</td>\n",
       "      <td>Not defined</td>\n",
       "      <td>26.97</td>\n",
       "      <td>527803604</td>\n",
       "      <td>1c8250d5-79e6-4080-aa13-d2e73c596fa2</td>\n",
       "      <td>appliances</td>\n",
       "      <td>environment</td>\n",
       "      <td>vacuum</td>\n",
       "    </tr>\n",
       "    <tr>\n",
       "      <th>1</th>\n",
       "      <td>2019-12-16 02:01:23+09</td>\n",
       "      <td>view</td>\n",
       "      <td>5856191</td>\n",
       "      <td>1487580006350586771</td>\n",
       "      <td>appliances.environment.vacuum</td>\n",
       "      <td>runail</td>\n",
       "      <td>24.44</td>\n",
       "      <td>587394396</td>\n",
       "      <td>2721b750-3936-4196-ba9b-206e823f725d</td>\n",
       "      <td>appliances</td>\n",
       "      <td>environment</td>\n",
       "      <td>vacuum</td>\n",
       "    </tr>\n",
       "    <tr>\n",
       "      <th>2</th>\n",
       "      <td>2019-12-16 02:01:56+09</td>\n",
       "      <td>view</td>\n",
       "      <td>5867188</td>\n",
       "      <td>1487580006350586771</td>\n",
       "      <td>appliances.environment.vacuum</td>\n",
       "      <td>emil</td>\n",
       "      <td>55.56</td>\n",
       "      <td>527803604</td>\n",
       "      <td>1c8250d5-79e6-4080-aa13-d2e73c596fa2</td>\n",
       "      <td>appliances</td>\n",
       "      <td>environment</td>\n",
       "      <td>vacuum</td>\n",
       "    </tr>\n",
       "    <tr>\n",
       "      <th>3</th>\n",
       "      <td>2019-12-16 02:05:17+09</td>\n",
       "      <td>view</td>\n",
       "      <td>5826657</td>\n",
       "      <td>1487580006350586771</td>\n",
       "      <td>appliances.environment.vacuum</td>\n",
       "      <td>Not defined</td>\n",
       "      <td>29.71</td>\n",
       "      <td>527803604</td>\n",
       "      <td>1c8250d5-79e6-4080-aa13-d2e73c596fa2</td>\n",
       "      <td>appliances</td>\n",
       "      <td>environment</td>\n",
       "      <td>vacuum</td>\n",
       "    </tr>\n",
       "    <tr>\n",
       "      <th>4</th>\n",
       "      <td>2019-12-16 02:05:38+09</td>\n",
       "      <td>view</td>\n",
       "      <td>8098</td>\n",
       "      <td>1487580006350586771</td>\n",
       "      <td>appliances.environment.vacuum</td>\n",
       "      <td>Not defined</td>\n",
       "      <td>1.11</td>\n",
       "      <td>587355096</td>\n",
       "      <td>79c56618-fb25-41f2-87c9-bbc55880c884</td>\n",
       "      <td>appliances</td>\n",
       "      <td>environment</td>\n",
       "      <td>vacuum</td>\n",
       "    </tr>\n",
       "  </tbody>\n",
       "</table>\n",
       "</div>"
      ],
      "text/plain": [
       "                     time event_name  product_id          category_id  \\\n",
       "0  2019-12-16 02:00:59+09       view     5748490  1487580006350586771   \n",
       "1  2019-12-16 02:01:23+09       view     5856191  1487580006350586771   \n",
       "2  2019-12-16 02:01:56+09       view     5867188  1487580006350586771   \n",
       "3  2019-12-16 02:05:17+09       view     5826657  1487580006350586771   \n",
       "4  2019-12-16 02:05:38+09       view        8098  1487580006350586771   \n",
       "\n",
       "                   category_name        brand  price    user_id  \\\n",
       "0  appliances.environment.vacuum  Not defined  26.97  527803604   \n",
       "1  appliances.environment.vacuum       runail  24.44  587394396   \n",
       "2  appliances.environment.vacuum         emil  55.56  527803604   \n",
       "3  appliances.environment.vacuum  Not defined  29.71  527803604   \n",
       "4  appliances.environment.vacuum  Not defined   1.11  587355096   \n",
       "\n",
       "                                session  category_1   category_2 category_3  \n",
       "0  1c8250d5-79e6-4080-aa13-d2e73c596fa2  appliances  environment     vacuum  \n",
       "1  2721b750-3936-4196-ba9b-206e823f725d  appliances  environment     vacuum  \n",
       "2  1c8250d5-79e6-4080-aa13-d2e73c596fa2  appliances  environment     vacuum  \n",
       "3  1c8250d5-79e6-4080-aa13-d2e73c596fa2  appliances  environment     vacuum  \n",
       "4  79c56618-fb25-41f2-87c9-bbc55880c884  appliances  environment     vacuum  "
      ]
     },
     "execution_count": 3,
     "metadata": {},
     "output_type": "execute_result"
    }
   ],
   "source": [
    "data = pd.read_csv('commerce_data.csv')\n",
    "data.head()"
   ]
  },
  {
   "cell_type": "code",
   "execution_count": 4,
   "metadata": {},
   "outputs": [
    {
     "data": {
      "text/html": [
       "<div>\n",
       "<style scoped>\n",
       "    .dataframe tbody tr th:only-of-type {\n",
       "        vertical-align: middle;\n",
       "    }\n",
       "\n",
       "    .dataframe tbody tr th {\n",
       "        vertical-align: top;\n",
       "    }\n",
       "\n",
       "    .dataframe thead th {\n",
       "        text-align: right;\n",
       "    }\n",
       "</style>\n",
       "<table border=\"1\" class=\"dataframe\">\n",
       "  <thead>\n",
       "    <tr style=\"text-align: right;\">\n",
       "      <th></th>\n",
       "      <th>event_name</th>\n",
       "      <th>price</th>\n",
       "    </tr>\n",
       "  </thead>\n",
       "  <tbody>\n",
       "    <tr>\n",
       "      <th>0</th>\n",
       "      <td>view</td>\n",
       "      <td>26.97</td>\n",
       "    </tr>\n",
       "    <tr>\n",
       "      <th>1</th>\n",
       "      <td>view</td>\n",
       "      <td>24.44</td>\n",
       "    </tr>\n",
       "    <tr>\n",
       "      <th>2</th>\n",
       "      <td>view</td>\n",
       "      <td>55.56</td>\n",
       "    </tr>\n",
       "    <tr>\n",
       "      <th>3</th>\n",
       "      <td>view</td>\n",
       "      <td>29.71</td>\n",
       "    </tr>\n",
       "    <tr>\n",
       "      <th>4</th>\n",
       "      <td>view</td>\n",
       "      <td>1.11</td>\n",
       "    </tr>\n",
       "  </tbody>\n",
       "</table>\n",
       "</div>"
      ],
      "text/plain": [
       "  event_name  price\n",
       "0       view  26.97\n",
       "1       view  24.44\n",
       "2       view  55.56\n",
       "3       view  29.71\n",
       "4       view   1.11"
      ]
     },
     "execution_count": 4,
     "metadata": {},
     "output_type": "execute_result"
    }
   ],
   "source": [
    "df = data.drop(['time', 'product_id','category_id', 'category_name', 'brand', 'user_id', 'session', 'category_1',\n",
    "               'category_2', 'category_3'], axis =1)\n",
    "df.head()"
   ]
  },
  {
   "cell_type": "code",
   "execution_count": 5,
   "metadata": {},
   "outputs": [
    {
     "data": {
      "text/plain": [
       "event_name    0\n",
       "price         0\n",
       "dtype: int64"
      ]
     },
     "execution_count": 5,
     "metadata": {},
     "output_type": "execute_result"
    }
   ],
   "source": [
    "df.isnull().sum()"
   ]
  },
  {
   "cell_type": "code",
   "execution_count": 6,
   "metadata": {},
   "outputs": [
    {
     "data": {
      "text/plain": [
       "event_name     object\n",
       "price         float64\n",
       "dtype: object"
      ]
     },
     "execution_count": 6,
     "metadata": {},
     "output_type": "execute_result"
    }
   ],
   "source": [
    "df.dtypes"
   ]
  },
  {
   "cell_type": "code",
   "execution_count": 7,
   "metadata": {},
   "outputs": [
    {
     "data": {
      "text/plain": [
       "event_name    3525697\n",
       "price         3525697\n",
       "dtype: int64"
      ]
     },
     "execution_count": 7,
     "metadata": {},
     "output_type": "execute_result"
    }
   ],
   "source": [
    "df = df[df.price != 0]\n",
    "df.head()\n",
    "df.count()"
   ]
  },
  {
   "cell_type": "code",
   "execution_count": 8,
   "metadata": {},
   "outputs": [
    {
     "data": {
      "text/plain": [
       "False    3525697\n",
       "Name: price, dtype: int64"
      ]
     },
     "execution_count": 8,
     "metadata": {},
     "output_type": "execute_result"
    }
   ],
   "source": [
    "found = df['price'].isin([0])\n",
    "df1 = pd.DataFrame({'price': found})\n",
    "df1['price'].value_counts()"
   ]
  },
  {
   "cell_type": "code",
   "execution_count": 9,
   "metadata": {},
   "outputs": [
    {
     "data": {
      "text/html": [
       "<div>\n",
       "<style scoped>\n",
       "    .dataframe tbody tr th:only-of-type {\n",
       "        vertical-align: middle;\n",
       "    }\n",
       "\n",
       "    .dataframe tbody tr th {\n",
       "        vertical-align: top;\n",
       "    }\n",
       "\n",
       "    .dataframe thead th {\n",
       "        text-align: right;\n",
       "    }\n",
       "</style>\n",
       "<table border=\"1\" class=\"dataframe\">\n",
       "  <thead>\n",
       "    <tr style=\"text-align: right;\">\n",
       "      <th></th>\n",
       "      <th>event_name</th>\n",
       "      <th>price</th>\n",
       "    </tr>\n",
       "  </thead>\n",
       "  <tbody>\n",
       "    <tr>\n",
       "      <th>8</th>\n",
       "      <td>remove_from_cart</td>\n",
       "      <td>4.16</td>\n",
       "    </tr>\n",
       "    <tr>\n",
       "      <th>10</th>\n",
       "      <td>remove_from_cart</td>\n",
       "      <td>1.11</td>\n",
       "    </tr>\n",
       "    <tr>\n",
       "      <th>11</th>\n",
       "      <td>purchase</td>\n",
       "      <td>1.27</td>\n",
       "    </tr>\n",
       "    <tr>\n",
       "      <th>12</th>\n",
       "      <td>purchase</td>\n",
       "      <td>24.60</td>\n",
       "    </tr>\n",
       "    <tr>\n",
       "      <th>22</th>\n",
       "      <td>remove_from_cart</td>\n",
       "      <td>24.60</td>\n",
       "    </tr>\n",
       "    <tr>\n",
       "      <th>...</th>\n",
       "      <td>...</td>\n",
       "      <td>...</td>\n",
       "    </tr>\n",
       "    <tr>\n",
       "      <th>594</th>\n",
       "      <td>remove_from_cart</td>\n",
       "      <td>24.44</td>\n",
       "    </tr>\n",
       "    <tr>\n",
       "      <th>595</th>\n",
       "      <td>remove_from_cart</td>\n",
       "      <td>24.44</td>\n",
       "    </tr>\n",
       "    <tr>\n",
       "      <th>597</th>\n",
       "      <td>remove_from_cart</td>\n",
       "      <td>46.83</td>\n",
       "    </tr>\n",
       "    <tr>\n",
       "      <th>598</th>\n",
       "      <td>remove_from_cart</td>\n",
       "      <td>46.83</td>\n",
       "    </tr>\n",
       "    <tr>\n",
       "      <th>602</th>\n",
       "      <td>remove_from_cart</td>\n",
       "      <td>30.95</td>\n",
       "    </tr>\n",
       "  </tbody>\n",
       "</table>\n",
       "<p>100 rows × 2 columns</p>\n",
       "</div>"
      ],
      "text/plain": [
       "           event_name  price\n",
       "8    remove_from_cart   4.16\n",
       "10   remove_from_cart   1.11\n",
       "11           purchase   1.27\n",
       "12           purchase  24.60\n",
       "22   remove_from_cart  24.60\n",
       "..                ...    ...\n",
       "594  remove_from_cart  24.44\n",
       "595  remove_from_cart  24.44\n",
       "597  remove_from_cart  46.83\n",
       "598  remove_from_cart  46.83\n",
       "602  remove_from_cart  30.95\n",
       "\n",
       "[100 rows x 2 columns]"
      ]
     },
     "execution_count": 9,
     "metadata": {},
     "output_type": "execute_result"
    }
   ],
   "source": [
    "df = df[df.event_name != 'cart']\n",
    "df = df[df.event_name != 'view']\n",
    "df.head(100)"
   ]
  },
  {
   "cell_type": "code",
   "execution_count": 10,
   "metadata": {},
   "outputs": [
    {
     "data": {
      "image/png": "[encoded data removed]",
      "text/plain": [
       "<Figure size 432x288 with 1 Axes>"
      ]
     },
     "metadata": {
      "needs_background": "light"
     },
     "output_type": "display_data"
    }
   ],
   "source": [
    "top_event = df.loc[:,'event_name'].value_counts().sort_values(ascending=False)\n",
    "squarify.plot(sizes=top_event, label = top_event.index.array, color=[\"red\",\"cyan\",\"green\",\"blue\"], alpha=.7)\n",
    "plt.axis('off')\n",
    "plt.show()"
   ]
  },
  {
   "cell_type": "markdown",
   "metadata": {},
   "source": [
    "### XGBoost"
   ]
  },
  {
   "cell_type": "code",
   "execution_count": 11,
   "metadata": {},
   "outputs": [
    {
     "name": "stdout",
     "output_type": "stream",
     "text": [
      "8          remove_from_cart\n",
      "10         remove_from_cart\n",
      "11                 purchase\n",
      "12                 purchase\n",
      "22         remove_from_cart\n",
      "                 ...       \n",
      "3533270    remove_from_cart\n",
      "3533271    remove_from_cart\n",
      "3533272    remove_from_cart\n",
      "3533278    remove_from_cart\n",
      "3533279    remove_from_cart\n",
      "Name: event_name, Length: 877516, dtype: object\n"
     ]
    }
   ],
   "source": [
    "# Isolate the X and Y varaibles \n",
    "y = df.iloc[:,0]\n",
    "x = df._get_numeric_data()\n",
    "print(y)\n",
    "#print(x)"
   ]
  },
  {
   "cell_type": "code",
   "execution_count": 12,
   "metadata": {},
   "outputs": [],
   "source": [
    "from sklearn.model_selection import train_test_split"
   ]
  },
  {
   "cell_type": "code",
   "execution_count": 13,
   "metadata": {},
   "outputs": [
    {
     "name": "stdout",
     "output_type": "stream",
     "text": [
      "         price\n",
      "661312    3.00\n",
      "2899609   3.02\n",
      "407648    1.75\n",
      "3073055   5.62\n",
      "2441813   1.59\n",
      "...        ...\n",
      "2630979   5.49\n",
      "447875   12.54\n",
      "2455563   3.97\n",
      "305267    0.79\n",
      "2808452   3.16\n",
      "\n",
      "[87751 rows x 1 columns]\n",
      "NEXT          price\n",
      "1236634   7.78\n",
      "331680   16.67\n",
      "3319350   2.37\n",
      "970019    4.05\n",
      "1149362   3.14\n",
      "...        ...\n",
      "1252943   6.49\n",
      "2985125   0.79\n",
      "695110    5.56\n",
      "1662357   2.05\n",
      "914078    1.02\n",
      "\n",
      "[789765 rows x 1 columns]\n",
      "NEXT 661312     remove_from_cart\n",
      "2899609    remove_from_cart\n",
      "407648     remove_from_cart\n",
      "3073055    remove_from_cart\n",
      "2441813            purchase\n",
      "                 ...       \n",
      "2630979    remove_from_cart\n",
      "447875     remove_from_cart\n",
      "2455563            purchase\n",
      "305267     remove_from_cart\n",
      "2808452            purchase\n",
      "Name: event_name, Length: 87751, dtype: object\n",
      "NEXT 1236634    remove_from_cart\n",
      "331680     remove_from_cart\n",
      "3319350    remove_from_cart\n",
      "970019     remove_from_cart\n",
      "1149362    remove_from_cart\n",
      "                 ...       \n",
      "1252943    remove_from_cart\n",
      "2985125    remove_from_cart\n",
      "695110             purchase\n",
      "1662357            purchase\n",
      "914078     remove_from_cart\n",
      "Name: event_name, Length: 789765, dtype: object\n"
     ]
    }
   ],
   "source": [
    "#Split dataset into training and test set \n",
    "x_train, x_test, y_train, y_test = train_test_split(x, y, test_size = .9, random_state = 3525696 )\n",
    "print(x_train)\n",
    "print('NEXT',x_test)\n",
    "print('NEXT', y_train)\n",
    "print('NEXT', y_test)"
   ]
  },
  {
   "cell_type": "code",
   "execution_count": 14,
   "metadata": {},
   "outputs": [
    {
     "name": "stdout",
     "output_type": "stream",
     "text": [
      "[1 1 1 ... 0 1 0]\n",
      "[1 1 1 ... 0 0 1]\n",
      "0.757073993458764\n"
     ]
    },
    {
     "data": {
      "text/plain": [
       "0.7570682418187689"
      ]
     },
     "execution_count": 14,
     "metadata": {},
     "output_type": "execute_result"
    }
   ],
   "source": [
    "#Transform y factor to variable \n",
    "y_train = np.where(y_train == 'remove_from_cart', 1, 0)\n",
    "y_test = np.where(y_test == 'remove_from_cart', 1, 0)\n",
    "print(y_train)\n",
    "print(y_test)\n",
    "print(np.mean(y_train))\n",
    "np.mean(y_test)"
   ]
  },
  {
   "cell_type": "code",
   "execution_count": 15,
   "metadata": {},
   "outputs": [
    {
     "name": "stdout",
     "output_type": "stream",
     "text": [
      "<xgboost.core.DMatrix object at 0x000001409563E040>\n",
      "<xgboost.core.DMatrix object at 0x0000014095620A00>\n"
     ]
    }
   ],
   "source": [
    "#Create xgboost matrices \n",
    "Train = xgboost.DMatrix(x_train, label = y_train)\n",
    "Test = xgboost.DMatrix(x_test, label = y_test)\n",
    "print(Train)\n",
    "print(Test)"
   ]
  },
  {
   "cell_type": "code",
   "execution_count": 16,
   "metadata": {},
   "outputs": [],
   "source": [
    "#Setting parameters \n",
    "parameters1 = {'learning_rate': 0.3, \n",
    "              'max_depth': 2,\n",
    "              'colsample_bytree': 1, \n",
    "               'subsample': 1, \n",
    "               'min_child_weight': 1,\n",
    "               'gamma' : 0,\n",
    "               'random_state' : 3525696, \n",
    "               'eval_metric': 'auc',\n",
    "               'objective': 'binary:logistic'}"
   ]
  },
  {
   "cell_type": "code",
   "execution_count": 17,
   "metadata": {},
   "outputs": [
    {
     "name": "stdout",
     "output_type": "stream",
     "text": [
      "[0]\tYes-auc:0.53300\n",
      "[50]\tYes-auc:0.55773\n",
      "[100]\tYes-auc:0.56085\n",
      "[150]\tYes-auc:0.56179\n",
      "[199]\tYes-auc:0.56261\n"
     ]
    }
   ],
   "source": [
    "#Run xgboost \n",
    "model1 = xgboost.train(params = parameters1, \n",
    "                      dtrain = Train, \n",
    "                      num_boost_round = 200, \n",
    "                      evals = [(Test, 'Yes')],\n",
    "                      verbose_eval = 50)"
   ]
  },
  {
   "cell_type": "code",
   "execution_count": 18,
   "metadata": {},
   "outputs": [
    {
     "name": "stdout",
     "output_type": "stream",
     "text": [
      "[0 0 0 ... 0 1 0]\n"
     ]
    }
   ],
   "source": [
    "#Predictions \n",
    "predictions1 = model1.predict(Test)\n",
    "predictions1 = np.where(predictions1 > 0.8, 1, 0)\n",
    "print(predictions1)"
   ]
  },
  {
   "cell_type": "code",
   "execution_count": 19,
   "metadata": {},
   "outputs": [
    {
     "name": "stdout",
     "output_type": "stream",
     "text": [
      "[[170645  21214]\n",
      " [505217  92689]]\n"
     ]
    }
   ],
   "source": [
    "#Confusion Matrix \n",
    "from sklearn.metrics import confusion_matrix \n",
    "from sklearn.metrics import classification_report \n",
    "confusion_matrix1 = confusion_matrix(y_test, predictions1)\n",
    "print(confusion_matrix1)"
   ]
  },
  {
   "cell_type": "code",
   "execution_count": 20,
   "metadata": {},
   "outputs": [
    {
     "name": "stdout",
     "output_type": "stream",
     "text": [
      "              precision    recall  f1-score   support\n",
      "\n",
      "           0       0.25      0.89      0.39    191859\n",
      "           1       0.81      0.16      0.26    597906\n",
      "\n",
      "    accuracy                           0.33    789765\n",
      "   macro avg       0.53      0.52      0.33    789765\n",
      "weighted avg       0.68      0.33      0.29    789765\n",
      "\n"
     ]
    }
   ],
   "source": [
    "report1 = classification_report(y_test, predictions1)\n",
    "print(report1)"
   ]
  },
  {
   "cell_type": "code",
   "execution_count": 21,
   "metadata": {},
   "outputs": [
    {
     "data": {
      "text/html": [
       "<div>\n",
       "<style scoped>\n",
       "    .dataframe tbody tr th:only-of-type {\n",
       "        vertical-align: middle;\n",
       "    }\n",
       "\n",
       "    .dataframe tbody tr th {\n",
       "        vertical-align: top;\n",
       "    }\n",
       "\n",
       "    .dataframe thead th {\n",
       "        text-align: right;\n",
       "    }\n",
       "</style>\n",
       "<table border=\"1\" class=\"dataframe\">\n",
       "  <thead>\n",
       "    <tr style=\"text-align: right;\">\n",
       "      <th></th>\n",
       "      <th>event_name</th>\n",
       "    </tr>\n",
       "  </thead>\n",
       "  <tbody>\n",
       "    <tr>\n",
       "      <th>8</th>\n",
       "      <td>remove_from_cart</td>\n",
       "    </tr>\n",
       "    <tr>\n",
       "      <th>10</th>\n",
       "      <td>remove_from_cart</td>\n",
       "    </tr>\n",
       "    <tr>\n",
       "      <th>11</th>\n",
       "      <td>purchase</td>\n",
       "    </tr>\n",
       "    <tr>\n",
       "      <th>12</th>\n",
       "      <td>purchase</td>\n",
       "    </tr>\n",
       "    <tr>\n",
       "      <th>22</th>\n",
       "      <td>remove_from_cart</td>\n",
       "    </tr>\n",
       "  </tbody>\n",
       "</table>\n",
       "</div>"
      ],
      "text/plain": [
       "          event_name\n",
       "8   remove_from_cart\n",
       "10  remove_from_cart\n",
       "11          purchase\n",
       "12          purchase\n",
       "22  remove_from_cart"
      ]
     },
     "execution_count": 21,
     "metadata": {},
     "output_type": "execute_result"
    }
   ],
   "source": [
    "################\n",
    "\n",
    "#Isolate categorical variables \n",
    "dataset_categorical = df.select_dtypes(exclude = 'number')\n",
    "dataset_categorical.head()"
   ]
  },
  {
   "cell_type": "code",
   "execution_count": 22,
   "metadata": {},
   "outputs": [
    {
     "data": {
      "text/html": [
       "<div>\n",
       "<style scoped>\n",
       "    .dataframe tbody tr th:only-of-type {\n",
       "        vertical-align: middle;\n",
       "    }\n",
       "\n",
       "    .dataframe tbody tr th {\n",
       "        vertical-align: top;\n",
       "    }\n",
       "\n",
       "    .dataframe thead th {\n",
       "        text-align: right;\n",
       "    }\n",
       "</style>\n",
       "<table border=\"1\" class=\"dataframe\">\n",
       "  <thead>\n",
       "    <tr style=\"text-align: right;\">\n",
       "      <th></th>\n",
       "      <th>event_name_remove_from_cart</th>\n",
       "    </tr>\n",
       "  </thead>\n",
       "  <tbody>\n",
       "    <tr>\n",
       "      <th>8</th>\n",
       "      <td>1</td>\n",
       "    </tr>\n",
       "    <tr>\n",
       "      <th>10</th>\n",
       "      <td>1</td>\n",
       "    </tr>\n",
       "    <tr>\n",
       "      <th>11</th>\n",
       "      <td>0</td>\n",
       "    </tr>\n",
       "    <tr>\n",
       "      <th>12</th>\n",
       "      <td>0</td>\n",
       "    </tr>\n",
       "    <tr>\n",
       "      <th>22</th>\n",
       "      <td>1</td>\n",
       "    </tr>\n",
       "  </tbody>\n",
       "</table>\n",
       "</div>"
      ],
      "text/plain": [
       "    event_name_remove_from_cart\n",
       "8                             1\n",
       "10                            1\n",
       "11                            0\n",
       "12                            0\n",
       "22                            1"
      ]
     },
     "execution_count": 22,
     "metadata": {},
     "output_type": "execute_result"
    }
   ],
   "source": [
    "#Transform categorical variables into dummy variables \n",
    "dataset_categorical = pd.get_dummies(data = dataset_categorical,\n",
    "                                    drop_first = True)\n",
    "dataset_categorical.head()"
   ]
  },
  {
   "cell_type": "code",
   "execution_count": 23,
   "metadata": {},
   "outputs": [
    {
     "data": {
      "text/html": [
       "<div>\n",
       "<style scoped>\n",
       "    .dataframe tbody tr th:only-of-type {\n",
       "        vertical-align: middle;\n",
       "    }\n",
       "\n",
       "    .dataframe tbody tr th {\n",
       "        vertical-align: top;\n",
       "    }\n",
       "\n",
       "    .dataframe thead th {\n",
       "        text-align: right;\n",
       "    }\n",
       "</style>\n",
       "<table border=\"1\" class=\"dataframe\">\n",
       "  <thead>\n",
       "    <tr style=\"text-align: right;\">\n",
       "      <th></th>\n",
       "      <th>price</th>\n",
       "      <th>event_name_remove_from_cart</th>\n",
       "    </tr>\n",
       "  </thead>\n",
       "  <tbody>\n",
       "    <tr>\n",
       "      <th>8</th>\n",
       "      <td>4.16</td>\n",
       "      <td>1</td>\n",
       "    </tr>\n",
       "    <tr>\n",
       "      <th>10</th>\n",
       "      <td>1.11</td>\n",
       "      <td>1</td>\n",
       "    </tr>\n",
       "    <tr>\n",
       "      <th>11</th>\n",
       "      <td>1.27</td>\n",
       "      <td>0</td>\n",
       "    </tr>\n",
       "    <tr>\n",
       "      <th>12</th>\n",
       "      <td>24.60</td>\n",
       "      <td>0</td>\n",
       "    </tr>\n",
       "    <tr>\n",
       "      <th>22</th>\n",
       "      <td>24.60</td>\n",
       "      <td>1</td>\n",
       "    </tr>\n",
       "    <tr>\n",
       "      <th>...</th>\n",
       "      <td>...</td>\n",
       "      <td>...</td>\n",
       "    </tr>\n",
       "    <tr>\n",
       "      <th>3533270</th>\n",
       "      <td>24.60</td>\n",
       "      <td>1</td>\n",
       "    </tr>\n",
       "    <tr>\n",
       "      <th>3533271</th>\n",
       "      <td>24.60</td>\n",
       "      <td>1</td>\n",
       "    </tr>\n",
       "    <tr>\n",
       "      <th>3533272</th>\n",
       "      <td>1.11</td>\n",
       "      <td>1</td>\n",
       "    </tr>\n",
       "    <tr>\n",
       "      <th>3533278</th>\n",
       "      <td>82.54</td>\n",
       "      <td>1</td>\n",
       "    </tr>\n",
       "    <tr>\n",
       "      <th>3533279</th>\n",
       "      <td>82.54</td>\n",
       "      <td>1</td>\n",
       "    </tr>\n",
       "  </tbody>\n",
       "</table>\n",
       "<p>877516 rows × 2 columns</p>\n",
       "</div>"
      ],
      "text/plain": [
       "         price  event_name_remove_from_cart\n",
       "8         4.16                            1\n",
       "10        1.11                            1\n",
       "11        1.27                            0\n",
       "12       24.60                            0\n",
       "22       24.60                            1\n",
       "...        ...                          ...\n",
       "3533270  24.60                            1\n",
       "3533271  24.60                            1\n",
       "3533272   1.11                            1\n",
       "3533278  82.54                            1\n",
       "3533279  82.54                            1\n",
       "\n",
       "[877516 rows x 2 columns]"
      ]
     },
     "execution_count": 23,
     "metadata": {},
     "output_type": "execute_result"
    }
   ],
   "source": [
    "#Joining numerical and categorical datasets \n",
    "final_dataset = pd.concat((x, dataset_categorical), axis = 1)\n",
    "final_dataset"
   ]
  },
  {
   "cell_type": "code",
   "execution_count": 24,
   "metadata": {},
   "outputs": [
    {
     "data": {
      "text/plain": [
       "['price', 'event_name_remove_from_cart']"
      ]
     },
     "execution_count": 24,
     "metadata": {},
     "output_type": "execute_result"
    }
   ],
   "source": [
    "#Getting names of columns \n",
    "feature_columns = list(final_dataset.columns.values)\n",
    "feature_columns "
   ]
  },
  {
   "cell_type": "code",
   "execution_count": 25,
   "metadata": {},
   "outputs": [],
   "source": [
    "#####################################################################\n",
    "# Isolate the X and Y varaibles part 2 \n",
    "y = final_dataset.iloc[:,-1].values\n",
    "x = final_dataset.iloc[:, : -1].values"
   ]
  },
  {
   "cell_type": "code",
   "execution_count": 26,
   "metadata": {},
   "outputs": [
    {
     "name": "stdout",
     "output_type": "stream",
     "text": [
      "[[3.  ]\n",
      " [3.02]\n",
      " [1.75]\n",
      " ...\n",
      " [3.97]\n",
      " [0.79]\n",
      " [3.16]]\n",
      "NEXT [[ 7.78]\n",
      " [16.67]\n",
      " [ 2.37]\n",
      " ...\n",
      " [ 5.56]\n",
      " [ 2.05]\n",
      " [ 1.02]]\n",
      "NEXT [1 1 1 ... 0 1 0]\n",
      "NEXT [1 1 1 ... 0 0 1]\n"
     ]
    }
   ],
   "source": [
    "x_train, x_test, y_train, y_test = train_test_split(x, y, test_size = .9, random_state = 3525696 )\n",
    "print(x_train)\n",
    "print('NEXT',x_test)\n",
    "print('NEXT', y_train)\n",
    "print('NEXT', y_test)\n",
    "#print(y)\n",
    "#print(x)"
   ]
  },
  {
   "cell_type": "code",
   "execution_count": 27,
   "metadata": {},
   "outputs": [
    {
     "name": "stdout",
     "output_type": "stream",
     "text": [
      "<xgboost.core.DMatrix object at 0x000001409565E0A0>\n",
      "<xgboost.core.DMatrix object at 0x000001409565E460>\n"
     ]
    }
   ],
   "source": [
    "#Create xgboost matrices part 2 \n",
    "Train = xgboost.DMatrix(x_train, label = y_train) #, feature_names = feature_columns)\n",
    "Test = xgboost.DMatrix(x_test, label = y_test) #, feature_names = feature_columns)\n",
    "print(Train)\n",
    "print(Test)"
   ]
  },
  {
   "cell_type": "code",
   "execution_count": 28,
   "metadata": {},
   "outputs": [],
   "source": [
    "#Setting parameters part 2\n",
    "parameters2 = {'learning_rate': 0.3, \n",
    "              'max_depth': 2,\n",
    "              'colsample_bytree': 1, \n",
    "               'subsample': 1, \n",
    "               'min_child_weight': 1,\n",
    "               'gamma' : 0,\n",
    "               'random_state' : 3525696, \n",
    "               'eval_metric': 'auc',\n",
    "               'objective': 'binary:logistic'}"
   ]
  },
  {
   "cell_type": "code",
   "execution_count": 29,
   "metadata": {},
   "outputs": [
    {
     "name": "stdout",
     "output_type": "stream",
     "text": [
      "[0]\tYes-auc:0.53300\n",
      "[50]\tYes-auc:0.55773\n",
      "[100]\tYes-auc:0.56085\n",
      "[150]\tYes-auc:0.56179\n",
      "[199]\tYes-auc:0.56261\n"
     ]
    }
   ],
   "source": [
    "#Run xgboost \n",
    "model2 = xgboost.train(params = parameters2, \n",
    "                      dtrain = Train, \n",
    "                      num_boost_round = 200, \n",
    "                      evals = [(Test, 'Yes')],\n",
    "                      verbose_eval = 50)"
   ]
  },
  {
   "cell_type": "code",
   "execution_count": 30,
   "metadata": {},
   "outputs": [
    {
     "name": "stdout",
     "output_type": "stream",
     "text": [
      "[0 0 0 ... 0 1 0]\n"
     ]
    }
   ],
   "source": [
    "#Predictions part 2\n",
    "predictions2 = model2.predict(Test)\n",
    "predictions2 = np.where(predictions2 > 0.8, 1, 0)\n",
    "print(predictions1)"
   ]
  },
  {
   "cell_type": "code",
   "execution_count": 31,
   "metadata": {},
   "outputs": [
    {
     "name": "stdout",
     "output_type": "stream",
     "text": [
      "[[170645  21214]\n",
      " [505217  92689]]\n"
     ]
    }
   ],
   "source": [
    "#Confusion Matrix \n",
    "confusion_matrix2 = confusion_matrix(y_test, predictions1)\n",
    "print(confusion_matrix2)"
   ]
  },
  {
   "cell_type": "code",
   "execution_count": 32,
   "metadata": {},
   "outputs": [
    {
     "name": "stdout",
     "output_type": "stream",
     "text": [
      "              precision    recall  f1-score   support\n",
      "\n",
      "           0       0.25      0.89      0.39    191859\n",
      "           1       0.81      0.16      0.26    597906\n",
      "\n",
      "    accuracy                           0.33    789765\n",
      "   macro avg       0.53      0.52      0.33    789765\n",
      "weighted avg       0.68      0.33      0.29    789765\n",
      "\n"
     ]
    }
   ],
   "source": [
    "report2 = classification_report(y_test, predictions2)\n",
    "print(report2)"
   ]
  },
  {
   "cell_type": "code",
   "execution_count": 33,
   "metadata": {},
   "outputs": [],
   "source": [
    "##################################################################################\n",
    "\n",
    "#checking how many cores we have \n",
    "import multiprocessing"
   ]
  },
  {
   "cell_type": "code",
   "execution_count": 34,
   "metadata": {},
   "outputs": [
    {
     "data": {
      "text/plain": [
       "8"
      ]
     },
     "execution_count": 34,
     "metadata": {},
     "output_type": "execute_result"
    }
   ],
   "source": [
    "multiprocessing.cpu_count()"
   ]
  },
  {
   "cell_type": "code",
   "execution_count": 35,
   "metadata": {},
   "outputs": [
    {
     "data": {
      "text/plain": [
       "<generator object _BaseKFold.split at 0x00000140970C14A0>"
      ]
     },
     "execution_count": 35,
     "metadata": {},
     "output_type": "execute_result"
    }
   ],
   "source": [
    "#Setting the cross validation parameters \n",
    "from sklearn.model_selection import KFold \n",
    "tune_control = KFold(n_splits= 5, \n",
    "                    shuffle = True, \n",
    "                    random_state = 3525696 ).split( X = x_train, \n",
    "                                                  y = y_train)\n",
    "tune_control"
   ]
  },
  {
   "cell_type": "code",
   "execution_count": 36,
   "metadata": {},
   "outputs": [],
   "source": [
    "#Set parameter tuning \n",
    "tune_grid = {'learning_rate': [0.05, 0.3], \n",
    "              'max_depth': range(2, 9, 2),\n",
    "              'colsample_bytree': [1, 5, 1],\n",
    "               'subsample': [1], \n",
    "               'min_child_weight': [1],\n",
    "               'gamma' : [0],\n",
    "               'random_state' : [3525696],\n",
    "            'n_estimators' :range (200, 2000, 200), \n",
    "            'booster' : ['gbtree']}"
   ]
  },
  {
   "cell_type": "code",
   "execution_count": 37,
   "metadata": {},
   "outputs": [],
   "source": [
    "#State that we are doing a classification problem \n",
    "from xgboost import XGBClassifier \n",
    "classifier = XGBClassifier(objective = 'binary: logisitic')\n"
   ]
  },
  {
   "cell_type": "code",
   "execution_count": 38,
   "metadata": {},
   "outputs": [],
   "source": [
    "#Cross Validation Assembly \n",
    "from sklearn.model_selection import GridSearchCV\n",
    "grid_search = GridSearchCV(estimator = classifier, \n",
    "                          param_grid = tune_grid, \n",
    "                          scoring = 'roc_auc', \n",
    "                           n_jobs = 7, \n",
    "                           cv = tune_control, \n",
    "                           verbose = 5)"
   ]
  },
  {
   "cell_type": "code",
   "execution_count": 39,
   "metadata": {},
   "outputs": [],
   "source": [
    "#Setting evaluation parameters \n",
    "evaluation_parameters = {'early_stopping_rounds': 100, \n",
    "                        'eval_metric': 'auc',\n",
    "                        'eval_set': [(x_test, y_test)]}"
   ]
  },
  {
   "cell_type": "code",
   "execution_count": 40,
   "metadata": {},
   "outputs": [
    {
     "name": "stdout",
     "output_type": "stream",
     "text": [
      "Fitting 5 folds for each of 216 candidates, totalling 1080 fits\n"
     ]
    },
    {
     "name": "stderr",
     "output_type": "stream",
     "text": [
      "[Parallel(n_jobs=7)]: Using backend LokyBackend with 7 concurrent workers.\n",
      "[Parallel(n_jobs=7)]: Done   4 tasks      | elapsed:    2.8s\n",
      "[Parallel(n_jobs=7)]: Done  58 tasks      | elapsed:    6.6s\n",
      "[Parallel(n_jobs=7)]: Done 148 tasks      | elapsed:   13.6s\n",
      "[Parallel(n_jobs=7)]: Done 274 tasks      | elapsed:   22.4s\n",
      "[Parallel(n_jobs=7)]: Done 436 tasks      | elapsed:   35.1s\n",
      "[Parallel(n_jobs=7)]: Done 634 tasks      | elapsed:   52.9s\n",
      "[Parallel(n_jobs=7)]: Done 868 tasks      | elapsed:  1.3min\n",
      "[Parallel(n_jobs=7)]: Done 1080 out of 1080 | elapsed:  1.8min finished\n"
     ]
    },
    {
     "ename": "XGBoostError",
     "evalue": "[23:58:49] C:\\Users\\Administrator\\workspace\\xgboost-win64_release_1.2.0\\src\\objective\\objective.cc:26: Unknown objective function: `binary: logisitic`\nObjective candidate: survival:aft\nObjective candidate: binary:hinge\nObjective candidate: multi:softmax\nObjective candidate: multi:softprob\nObjective candidate: rank:pairwise\nObjective candidate: rank:ndcg\nObjective candidate: rank:map\nObjective candidate: reg:gamma\nObjective candidate: reg:tweedie\nObjective candidate: reg:squarederror\nObjective candidate: reg:squaredlogerror\nObjective candidate: reg:logistic\nObjective candidate: reg:pseudohubererror\nObjective candidate: binary:logistic\nObjective candidate: binary:logitraw\nObjective candidate: reg:linear\nObjective candidate: count:poisson\nObjective candidate: survival:cox\n",
     "output_type": "error",
     "traceback": [
      "\u001b[1;31m---------------------------------------------------------------------------\u001b[0m",
      "\u001b[1;31mXGBoostError\u001b[0m                              Traceback (most recent call last)",
      "\u001b[1;32m<ipython-input-40-d7698a8f8954>\u001b[0m in \u001b[0;36m<module>\u001b[1;34m\u001b[0m\n\u001b[0;32m      1\u001b[0m \u001b[1;31m#Hyperparameter tuning and cross validation\u001b[0m\u001b[1;33m\u001b[0m\u001b[1;33m\u001b[0m\u001b[1;33m\u001b[0m\u001b[0m\n\u001b[1;32m----> 2\u001b[1;33m tune_model = grid_search.fit(X = x_train, \n\u001b[0m\u001b[0;32m      3\u001b[0m                             \u001b[0my\u001b[0m \u001b[1;33m=\u001b[0m \u001b[0my_train\u001b[0m\u001b[1;33m,\u001b[0m\u001b[1;33m\u001b[0m\u001b[1;33m\u001b[0m\u001b[0m\n\u001b[0;32m      4\u001b[0m                             **evaluation_parameters)\n\u001b[0;32m      5\u001b[0m \u001b[1;33m\u001b[0m\u001b[0m\n",
      "\u001b[1;32m~\\Anaconda3\\envs\\learn-env\\lib\\site-packages\\sklearn\\utils\\validation.py\u001b[0m in \u001b[0;36minner_f\u001b[1;34m(*args, **kwargs)\u001b[0m\n\u001b[0;32m     70\u001b[0m                           FutureWarning)\n\u001b[0;32m     71\u001b[0m         \u001b[0mkwargs\u001b[0m\u001b[1;33m.\u001b[0m\u001b[0mupdate\u001b[0m\u001b[1;33m(\u001b[0m\u001b[1;33m{\u001b[0m\u001b[0mk\u001b[0m\u001b[1;33m:\u001b[0m \u001b[0marg\u001b[0m \u001b[1;32mfor\u001b[0m \u001b[0mk\u001b[0m\u001b[1;33m,\u001b[0m \u001b[0marg\u001b[0m \u001b[1;32min\u001b[0m \u001b[0mzip\u001b[0m\u001b[1;33m(\u001b[0m\u001b[0msig\u001b[0m\u001b[1;33m.\u001b[0m\u001b[0mparameters\u001b[0m\u001b[1;33m,\u001b[0m \u001b[0margs\u001b[0m\u001b[1;33m)\u001b[0m\u001b[1;33m}\u001b[0m\u001b[1;33m)\u001b[0m\u001b[1;33m\u001b[0m\u001b[1;33m\u001b[0m\u001b[0m\n\u001b[1;32m---> 72\u001b[1;33m         \u001b[1;32mreturn\u001b[0m \u001b[0mf\u001b[0m\u001b[1;33m(\u001b[0m\u001b[1;33m**\u001b[0m\u001b[0mkwargs\u001b[0m\u001b[1;33m)\u001b[0m\u001b[1;33m\u001b[0m\u001b[1;33m\u001b[0m\u001b[0m\n\u001b[0m\u001b[0;32m     73\u001b[0m     \u001b[1;32mreturn\u001b[0m \u001b[0minner_f\u001b[0m\u001b[1;33m\u001b[0m\u001b[1;33m\u001b[0m\u001b[0m\n\u001b[0;32m     74\u001b[0m \u001b[1;33m\u001b[0m\u001b[0m\n",
      "\u001b[1;32m~\\Anaconda3\\envs\\learn-env\\lib\\site-packages\\sklearn\\model_selection\\_search.py\u001b[0m in \u001b[0;36mfit\u001b[1;34m(self, X, y, groups, **fit_params)\u001b[0m\n\u001b[0;32m    763\u001b[0m             \u001b[0mrefit_start_time\u001b[0m \u001b[1;33m=\u001b[0m \u001b[0mtime\u001b[0m\u001b[1;33m.\u001b[0m\u001b[0mtime\u001b[0m\u001b[1;33m(\u001b[0m\u001b[1;33m)\u001b[0m\u001b[1;33m\u001b[0m\u001b[1;33m\u001b[0m\u001b[0m\n\u001b[0;32m    764\u001b[0m             \u001b[1;32mif\u001b[0m \u001b[0my\u001b[0m \u001b[1;32mis\u001b[0m \u001b[1;32mnot\u001b[0m \u001b[1;32mNone\u001b[0m\u001b[1;33m:\u001b[0m\u001b[1;33m\u001b[0m\u001b[1;33m\u001b[0m\u001b[0m\n\u001b[1;32m--> 765\u001b[1;33m                 \u001b[0mself\u001b[0m\u001b[1;33m.\u001b[0m\u001b[0mbest_estimator_\u001b[0m\u001b[1;33m.\u001b[0m\u001b[0mfit\u001b[0m\u001b[1;33m(\u001b[0m\u001b[0mX\u001b[0m\u001b[1;33m,\u001b[0m \u001b[0my\u001b[0m\u001b[1;33m,\u001b[0m \u001b[1;33m**\u001b[0m\u001b[0mfit_params\u001b[0m\u001b[1;33m)\u001b[0m\u001b[1;33m\u001b[0m\u001b[1;33m\u001b[0m\u001b[0m\n\u001b[0m\u001b[0;32m    766\u001b[0m             \u001b[1;32melse\u001b[0m\u001b[1;33m:\u001b[0m\u001b[1;33m\u001b[0m\u001b[1;33m\u001b[0m\u001b[0m\n\u001b[0;32m    767\u001b[0m                 \u001b[0mself\u001b[0m\u001b[1;33m.\u001b[0m\u001b[0mbest_estimator_\u001b[0m\u001b[1;33m.\u001b[0m\u001b[0mfit\u001b[0m\u001b[1;33m(\u001b[0m\u001b[0mX\u001b[0m\u001b[1;33m,\u001b[0m \u001b[1;33m**\u001b[0m\u001b[0mfit_params\u001b[0m\u001b[1;33m)\u001b[0m\u001b[1;33m\u001b[0m\u001b[1;33m\u001b[0m\u001b[0m\n",
      "\u001b[1;32m~\\Anaconda3\\envs\\learn-env\\lib\\site-packages\\xgboost\\sklearn.py\u001b[0m in \u001b[0;36mfit\u001b[1;34m(self, X, y, sample_weight, base_margin, eval_set, eval_metric, early_stopping_rounds, verbose, xgb_model, sample_weight_eval_set, callbacks)\u001b[0m\n\u001b[0;32m    826\u001b[0m                                 missing=self.missing, nthread=self.n_jobs)\n\u001b[0;32m    827\u001b[0m \u001b[1;33m\u001b[0m\u001b[0m\n\u001b[1;32m--> 828\u001b[1;33m         self._Booster = train(xgb_options, train_dmatrix,\n\u001b[0m\u001b[0;32m    829\u001b[0m                               \u001b[0mself\u001b[0m\u001b[1;33m.\u001b[0m\u001b[0mget_num_boosting_rounds\u001b[0m\u001b[1;33m(\u001b[0m\u001b[1;33m)\u001b[0m\u001b[1;33m,\u001b[0m\u001b[1;33m\u001b[0m\u001b[1;33m\u001b[0m\u001b[0m\n\u001b[0;32m    830\u001b[0m                               \u001b[0mevals\u001b[0m\u001b[1;33m=\u001b[0m\u001b[0mevals\u001b[0m\u001b[1;33m,\u001b[0m\u001b[1;33m\u001b[0m\u001b[1;33m\u001b[0m\u001b[0m\n",
      "\u001b[1;32m~\\Anaconda3\\envs\\learn-env\\lib\\site-packages\\xgboost\\training.py\u001b[0m in \u001b[0;36mtrain\u001b[1;34m(params, dtrain, num_boost_round, evals, obj, feval, maximize, early_stopping_rounds, evals_result, verbose_eval, xgb_model, callbacks)\u001b[0m\n\u001b[0;32m    206\u001b[0m         \u001b[0mcallbacks\u001b[0m\u001b[1;33m.\u001b[0m\u001b[0mappend\u001b[0m\u001b[1;33m(\u001b[0m\u001b[0mcallback\u001b[0m\u001b[1;33m.\u001b[0m\u001b[0mrecord_evaluation\u001b[0m\u001b[1;33m(\u001b[0m\u001b[0mevals_result\u001b[0m\u001b[1;33m)\u001b[0m\u001b[1;33m)\u001b[0m\u001b[1;33m\u001b[0m\u001b[1;33m\u001b[0m\u001b[0m\n\u001b[0;32m    207\u001b[0m \u001b[1;33m\u001b[0m\u001b[0m\n\u001b[1;32m--> 208\u001b[1;33m     return _train_internal(params, dtrain,\n\u001b[0m\u001b[0;32m    209\u001b[0m                            \u001b[0mnum_boost_round\u001b[0m\u001b[1;33m=\u001b[0m\u001b[0mnum_boost_round\u001b[0m\u001b[1;33m,\u001b[0m\u001b[1;33m\u001b[0m\u001b[1;33m\u001b[0m\u001b[0m\n\u001b[0;32m    210\u001b[0m                            \u001b[0mevals\u001b[0m\u001b[1;33m=\u001b[0m\u001b[0mevals\u001b[0m\u001b[1;33m,\u001b[0m\u001b[1;33m\u001b[0m\u001b[1;33m\u001b[0m\u001b[0m\n",
      "\u001b[1;32m~\\Anaconda3\\envs\\learn-env\\lib\\site-packages\\xgboost\\training.py\u001b[0m in \u001b[0;36m_train_internal\u001b[1;34m(params, dtrain, num_boost_round, evals, obj, feval, xgb_model, callbacks)\u001b[0m\n\u001b[0;32m     73\u001b[0m         \u001b[1;31m# Skip the first update if it is a recovery step.\u001b[0m\u001b[1;33m\u001b[0m\u001b[1;33m\u001b[0m\u001b[1;33m\u001b[0m\u001b[0m\n\u001b[0;32m     74\u001b[0m         \u001b[1;32mif\u001b[0m \u001b[0mversion\u001b[0m \u001b[1;33m%\u001b[0m \u001b[1;36m2\u001b[0m \u001b[1;33m==\u001b[0m \u001b[1;36m0\u001b[0m\u001b[1;33m:\u001b[0m\u001b[1;33m\u001b[0m\u001b[1;33m\u001b[0m\u001b[0m\n\u001b[1;32m---> 75\u001b[1;33m             \u001b[0mbst\u001b[0m\u001b[1;33m.\u001b[0m\u001b[0mupdate\u001b[0m\u001b[1;33m(\u001b[0m\u001b[0mdtrain\u001b[0m\u001b[1;33m,\u001b[0m \u001b[0mi\u001b[0m\u001b[1;33m,\u001b[0m \u001b[0mobj\u001b[0m\u001b[1;33m)\u001b[0m\u001b[1;33m\u001b[0m\u001b[1;33m\u001b[0m\u001b[0m\n\u001b[0m\u001b[0;32m     76\u001b[0m             \u001b[0mbst\u001b[0m\u001b[1;33m.\u001b[0m\u001b[0msave_rabit_checkpoint\u001b[0m\u001b[1;33m(\u001b[0m\u001b[1;33m)\u001b[0m\u001b[1;33m\u001b[0m\u001b[1;33m\u001b[0m\u001b[0m\n\u001b[0;32m     77\u001b[0m             \u001b[0mversion\u001b[0m \u001b[1;33m+=\u001b[0m \u001b[1;36m1\u001b[0m\u001b[1;33m\u001b[0m\u001b[1;33m\u001b[0m\u001b[0m\n",
      "\u001b[1;32m~\\Anaconda3\\envs\\learn-env\\lib\\site-packages\\xgboost\\core.py\u001b[0m in \u001b[0;36mupdate\u001b[1;34m(self, dtrain, iteration, fobj)\u001b[0m\n\u001b[0;32m   1157\u001b[0m \u001b[1;33m\u001b[0m\u001b[0m\n\u001b[0;32m   1158\u001b[0m         \u001b[1;32mif\u001b[0m \u001b[0mfobj\u001b[0m \u001b[1;32mis\u001b[0m \u001b[1;32mNone\u001b[0m\u001b[1;33m:\u001b[0m\u001b[1;33m\u001b[0m\u001b[1;33m\u001b[0m\u001b[0m\n\u001b[1;32m-> 1159\u001b[1;33m             _check_call(_LIB.XGBoosterUpdateOneIter(self.handle,\n\u001b[0m\u001b[0;32m   1160\u001b[0m                                                     \u001b[0mctypes\u001b[0m\u001b[1;33m.\u001b[0m\u001b[0mc_int\u001b[0m\u001b[1;33m(\u001b[0m\u001b[0miteration\u001b[0m\u001b[1;33m)\u001b[0m\u001b[1;33m,\u001b[0m\u001b[1;33m\u001b[0m\u001b[1;33m\u001b[0m\u001b[0m\n\u001b[0;32m   1161\u001b[0m                                                     dtrain.handle))\n",
      "\u001b[1;32m~\\Anaconda3\\envs\\learn-env\\lib\\site-packages\\xgboost\\core.py\u001b[0m in \u001b[0;36m_check_call\u001b[1;34m(ret)\u001b[0m\n\u001b[0;32m    186\u001b[0m     \"\"\"\n\u001b[0;32m    187\u001b[0m     \u001b[1;32mif\u001b[0m \u001b[0mret\u001b[0m \u001b[1;33m!=\u001b[0m \u001b[1;36m0\u001b[0m\u001b[1;33m:\u001b[0m\u001b[1;33m\u001b[0m\u001b[1;33m\u001b[0m\u001b[0m\n\u001b[1;32m--> 188\u001b[1;33m         \u001b[1;32mraise\u001b[0m \u001b[0mXGBoostError\u001b[0m\u001b[1;33m(\u001b[0m\u001b[0mpy_str\u001b[0m\u001b[1;33m(\u001b[0m\u001b[0m_LIB\u001b[0m\u001b[1;33m.\u001b[0m\u001b[0mXGBGetLastError\u001b[0m\u001b[1;33m(\u001b[0m\u001b[1;33m)\u001b[0m\u001b[1;33m)\u001b[0m\u001b[1;33m)\u001b[0m\u001b[1;33m\u001b[0m\u001b[1;33m\u001b[0m\u001b[0m\n\u001b[0m\u001b[0;32m    189\u001b[0m \u001b[1;33m\u001b[0m\u001b[0m\n\u001b[0;32m    190\u001b[0m \u001b[1;33m\u001b[0m\u001b[0m\n",
      "\u001b[1;31mXGBoostError\u001b[0m: [23:58:49] C:\\Users\\Administrator\\workspace\\xgboost-win64_release_1.2.0\\src\\objective\\objective.cc:26: Unknown objective function: `binary: logisitic`\nObjective candidate: survival:aft\nObjective candidate: binary:hinge\nObjective candidate: multi:softmax\nObjective candidate: multi:softprob\nObjective candidate: rank:pairwise\nObjective candidate: rank:ndcg\nObjective candidate: rank:map\nObjective candidate: reg:gamma\nObjective candidate: reg:tweedie\nObjective candidate: reg:squarederror\nObjective candidate: reg:squaredlogerror\nObjective candidate: reg:logistic\nObjective candidate: reg:pseudohubererror\nObjective candidate: binary:logistic\nObjective candidate: binary:logitraw\nObjective candidate: reg:linear\nObjective candidate: count:poisson\nObjective candidate: survival:cox\n"
     ]
    }
   ],
   "source": [
    "#Hyperparameter tuning and cross validation \n",
    "tune_model = grid_search.fit(X = x_train, \n",
    "                            y = y_train, \n",
    "                            **evaluation_parameters)\n",
    "\n",
    "#grid_search.best_params_, grid_seatch.best_score_"
   ]
  },
  {
   "cell_type": "code",
   "execution_count": null,
   "metadata": {},
   "outputs": [],
   "source": []
  }
 ],
 "metadata": {
  "kernelspec": {
   "display_name": "Python (learn-env)",
   "language": "python",
   "name": "learn-env"
  },
  "language_info": {
   "codemirror_mode": {
    "name": "ipython",
    "version": 3
   },
   "file_extension": ".py",
   "mimetype": "text/x-python",
   "name": "python",
   "nbconvert_exporter": "python",
   "pygments_lexer": "ipython3",
   "version": "3.8.5"
  }
 },
 "nbformat": 4,
 "nbformat_minor": 4
}
